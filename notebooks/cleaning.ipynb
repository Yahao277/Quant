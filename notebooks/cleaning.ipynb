{
 "cells": [
  {
   "cell_type": "code",
   "execution_count": 1,
   "id": "initial_id",
   "metadata": {
    "collapsed": true,
    "ExecuteTime": {
     "end_time": "2023-11-13T09:36:44.235631700Z",
     "start_time": "2023-11-13T09:36:41.773813700Z"
    }
   },
   "outputs": [],
   "source": [
    "import pandas as pd\n",
    "import numpy as np"
   ]
  },
  {
   "cell_type": "code",
   "execution_count": 24,
   "outputs": [],
   "source": [
    "def get_instrument(df):\n",
    "    volume_sum = df['volume'].groupby(df['instrument_id']).sum().sort_values(ascending=False)\n",
    "    return volume_sum.idxmax()"
   ],
   "metadata": {
    "collapsed": false,
    "ExecuteTime": {
     "end_time": "2023-11-13T17:31:16.214950600Z",
     "start_time": "2023-11-13T17:31:16.191325600Z"
    }
   },
   "id": "60942e90a2d9432"
  },
  {
   "cell_type": "code",
   "execution_count": null,
   "outputs": [],
   "source": [
    "datapath = '../data/ES/glbx-mdp3-20170601.ohlcv-1m.csv'\n",
    "# Fucntion Aggregates the data into 5 minute bars\n",
    "def process_file(datapath):\n",
    "    df = pd.read_csv(datapath, index_col='ts_event')\n",
    "    df.index = pd.to_datetime(df.index, unit='ns')\n",
    "    price_columns = ['open', 'high', 'low', 'close']\n",
    "    df[price_columns] = df[price_columns].apply(lambda x: x /10**9)\n",
    "    instrument_id = get_instrument(df)\n",
    "    filtered_df = df[df['instrument_id'] == instrument_id] # Most used instrument by day and volume\n",
    "    return filtered_df.resample('5T').agg({'open': 'first', \n",
    "                                           'high': 'max',\n",
    "                                           'low': 'min',\n",
    "                                           'close': 'last',\n",
    "                                           'volume': 'sum'})"
   ],
   "metadata": {
    "collapsed": false
   },
   "id": "deea783aeeeee407"
  },
  {
   "cell_type": "code",
   "execution_count": 25,
   "outputs": [
    {
     "data": {
      "text/plain": "                        open     high      low    close  volume\nts_event                                                       \n2017-06-01 05:00:00  2413.25  2413.50  2410.25  2413.00     260\n2017-06-01 05:05:00  2413.00  2413.25  2413.00  2413.00      30\n2017-06-01 05:10:00  2413.00  2413.25  2412.50  2412.50     155\n2017-06-01 05:15:00  2412.50  2412.75  2412.25  2412.50      84\n2017-06-01 05:20:00  2412.25  2412.75  2409.75  2412.25     173\n...                      ...      ...      ...      ...     ...\n2017-06-01 23:35:00  2429.25  2429.50  2426.75  2429.50     149\n2017-06-01 23:40:00  2427.00  2429.50  2427.00  2429.25      53\n2017-06-01 23:45:00  2429.50  2429.75    -2.45  2429.50     189\n2017-06-01 23:50:00  2429.75  2430.25  2427.50  2430.00     298\n2017-06-01 23:55:00  2430.00  2430.25  2429.75  2430.00     357\n\n[228 rows x 5 columns]",
      "text/html": "<div>\n<style scoped>\n    .dataframe tbody tr th:only-of-type {\n        vertical-align: middle;\n    }\n\n    .dataframe tbody tr th {\n        vertical-align: top;\n    }\n\n    .dataframe thead th {\n        text-align: right;\n    }\n</style>\n<table border=\"1\" class=\"dataframe\">\n  <thead>\n    <tr style=\"text-align: right;\">\n      <th></th>\n      <th>open</th>\n      <th>high</th>\n      <th>low</th>\n      <th>close</th>\n      <th>volume</th>\n    </tr>\n    <tr>\n      <th>ts_event</th>\n      <th></th>\n      <th></th>\n      <th></th>\n      <th></th>\n      <th></th>\n    </tr>\n  </thead>\n  <tbody>\n    <tr>\n      <th>2017-06-01 05:00:00</th>\n      <td>2413.25</td>\n      <td>2413.50</td>\n      <td>2410.25</td>\n      <td>2413.00</td>\n      <td>260</td>\n    </tr>\n    <tr>\n      <th>2017-06-01 05:05:00</th>\n      <td>2413.00</td>\n      <td>2413.25</td>\n      <td>2413.00</td>\n      <td>2413.00</td>\n      <td>30</td>\n    </tr>\n    <tr>\n      <th>2017-06-01 05:10:00</th>\n      <td>2413.00</td>\n      <td>2413.25</td>\n      <td>2412.50</td>\n      <td>2412.50</td>\n      <td>155</td>\n    </tr>\n    <tr>\n      <th>2017-06-01 05:15:00</th>\n      <td>2412.50</td>\n      <td>2412.75</td>\n      <td>2412.25</td>\n      <td>2412.50</td>\n      <td>84</td>\n    </tr>\n    <tr>\n      <th>2017-06-01 05:20:00</th>\n      <td>2412.25</td>\n      <td>2412.75</td>\n      <td>2409.75</td>\n      <td>2412.25</td>\n      <td>173</td>\n    </tr>\n    <tr>\n      <th>...</th>\n      <td>...</td>\n      <td>...</td>\n      <td>...</td>\n      <td>...</td>\n      <td>...</td>\n    </tr>\n    <tr>\n      <th>2017-06-01 23:35:00</th>\n      <td>2429.25</td>\n      <td>2429.50</td>\n      <td>2426.75</td>\n      <td>2429.50</td>\n      <td>149</td>\n    </tr>\n    <tr>\n      <th>2017-06-01 23:40:00</th>\n      <td>2427.00</td>\n      <td>2429.50</td>\n      <td>2427.00</td>\n      <td>2429.25</td>\n      <td>53</td>\n    </tr>\n    <tr>\n      <th>2017-06-01 23:45:00</th>\n      <td>2429.50</td>\n      <td>2429.75</td>\n      <td>-2.45</td>\n      <td>2429.50</td>\n      <td>189</td>\n    </tr>\n    <tr>\n      <th>2017-06-01 23:50:00</th>\n      <td>2429.75</td>\n      <td>2430.25</td>\n      <td>2427.50</td>\n      <td>2430.00</td>\n      <td>298</td>\n    </tr>\n    <tr>\n      <th>2017-06-01 23:55:00</th>\n      <td>2430.00</td>\n      <td>2430.25</td>\n      <td>2429.75</td>\n      <td>2430.00</td>\n      <td>357</td>\n    </tr>\n  </tbody>\n</table>\n<p>228 rows × 5 columns</p>\n</div>"
     },
     "execution_count": 25,
     "metadata": {},
     "output_type": "execute_result"
    }
   ],
   "source": [
    "# Testing the function\n",
    "datapath = '../data/ES/glbx-mdp3-20170601.ohlcv-1m.csv'\n",
    "df = pd.read_csv(datapath, index_col='ts_event')\n",
    "df.index = pd.to_datetime(df.index, unit='ns')\n",
    "price_columns = ['open', 'high', 'low', 'close']\n",
    "df[price_columns] = df[price_columns].apply(lambda x: x /10**9)\n",
    "instrument_id = get_instrument(df)\n",
    "filtered_df = df[df['instrument_id'] == instrument_id] # Most used instrument by day and volume\n",
    "regular_df = filtered_df.asfreq('T')\n",
    "resampled_df = df.resample('5T').agg({'open': 'first', \n",
    "                                       'high': 'max',\n",
    "                                       'low': 'min',\n",
    "                                       'close': 'last',\n",
    "                                       'volume': 'sum'})\n",
    "missing_bars = regular_df[regular_df.isnull().any(axis=1)]\n",
    "resampled_df"
   ],
   "metadata": {
    "collapsed": false,
    "ExecuteTime": {
     "end_time": "2023-11-13T17:31:16.846260100Z",
     "start_time": "2023-11-13T17:31:16.741952100Z"
    }
   },
   "id": "af3eabb0be695981"
  },
  {
   "cell_type": "code",
   "execution_count": 31,
   "outputs": [
    {
     "data": {
      "text/plain": "2002"
     },
     "execution_count": 31,
     "metadata": {},
     "output_type": "execute_result"
    }
   ],
   "source": [
    "# processing many csv files into one dataframe then save to csv\n",
    "import glob\n",
    "import os\n",
    "import pandas as pd\n",
    "# Replace this path with the path to your CSV files\n",
    "\n",
    "path_to_csv_files = '../data/ES/'\n",
    "all_files = [os.path.join(path_to_csv_files, f) for f in os.listdir(path_to_csv_files) if 'ohlcv-1m.csv' in f]\n",
    "\n",
    "# Process each file and aggregate\n",
    "all_dataframes = [process_file(file) for file in all_files]\n",
    "combined_df = pd.concat(all_dataframes)\n"
   ],
   "metadata": {
    "collapsed": false,
    "ExecuteTime": {
     "end_time": "2023-11-13T17:34:51.805433900Z",
     "start_time": "2023-11-13T17:34:51.743058300Z"
    }
   },
   "id": "88f5bbe766893896"
  }
 ],
 "metadata": {
  "kernelspec": {
   "display_name": "Python 3",
   "language": "python",
   "name": "python3"
  },
  "language_info": {
   "codemirror_mode": {
    "name": "ipython",
    "version": 2
   },
   "file_extension": ".py",
   "mimetype": "text/x-python",
   "name": "python",
   "nbconvert_exporter": "python",
   "pygments_lexer": "ipython2",
   "version": "2.7.6"
  }
 },
 "nbformat": 4,
 "nbformat_minor": 5
}
