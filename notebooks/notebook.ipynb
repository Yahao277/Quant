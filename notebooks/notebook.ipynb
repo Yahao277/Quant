{
 "cells": [
  {
   "cell_type": "code",
   "execution_count": 2,
   "metadata": {
    "ExecuteTime": {
     "end_time": "2023-11-13T20:21:34.921128Z",
     "start_time": "2023-11-13T20:21:34.151381200Z"
    }
   },
   "outputs": [],
   "source": [
    "import pandas as pd\n",
    "import numpy as np"
   ]
  },
  {
   "cell_type": "code",
   "execution_count": null,
   "outputs": [],
   "source": [],
   "metadata": {
    "collapsed": false
   }
  },
  {
   "cell_type": "code",
   "execution_count": 3,
   "metadata": {
    "ExecuteTime": {
     "end_time": "2023-11-13T20:21:36.613133Z",
     "start_time": "2023-11-13T20:21:36.581224900Z"
    }
   },
   "outputs": [],
   "source": [
    "import sys\n",
    "sys.path.append('../lib')\n",
    "\n",
    "from main import Main\n"
   ]
  },
  {
   "cell_type": "code",
   "execution_count": 9,
   "metadata": {
    "collapsed": false,
    "ExecuteTime": {
     "end_time": "2023-11-13T20:25:47.287499100Z",
     "start_time": "2023-11-13T20:25:41.645030900Z"
    }
   },
   "outputs": [
    {
     "data": {
      "text/plain": "                                rtype  publisher_id  instrument_id     open  \\\nts_event                                                                      \n2017-05-21T22:00:00.000000000Z     33             1           9006  2381.75   \n2017-05-21T22:01:00.000000000Z     33             1           9006  2381.75   \n2017-05-21T22:02:00.000000000Z     33             1           9006  2382.00   \n2017-05-21T22:03:00.000000000Z     33             1           9006  2382.50   \n2017-05-21T22:04:00.000000000Z     33             1           9006  2383.25   \n...                               ...           ...            ...      ...   \n2023-11-10T21:55:00.000000000Z     33             1         314863  4423.00   \n2023-11-10T21:56:00.000000000Z     33             1         314863  4423.00   \n2023-11-10T21:57:00.000000000Z     33             1         314863  4422.25   \n2023-11-10T21:58:00.000000000Z     33             1         314863  4424.00   \n2023-11-10T21:59:00.000000000Z     33             1         314863  4424.25   \n\n                                   high      low    close  volume  symbol  \nts_event                                                                   \n2017-05-21T22:00:00.000000000Z  2382.25  2381.00  2382.00    1632  ES.v.0  \n2017-05-21T22:01:00.000000000Z  2382.00  2381.75  2381.75     209  ES.v.0  \n2017-05-21T22:02:00.000000000Z  2382.75  2382.00  2382.50     766  ES.v.0  \n2017-05-21T22:03:00.000000000Z  2383.25  2382.25  2383.00     824  ES.v.0  \n2017-05-21T22:04:00.000000000Z  2383.25  2382.75  2383.25     640  ES.v.0  \n...                                 ...      ...      ...     ...     ...  \n2023-11-10T21:55:00.000000000Z  4423.25  4422.50  4423.00     551  ES.v.0  \n2023-11-10T21:56:00.000000000Z  4423.25  4422.00  4422.50     879  ES.v.0  \n2023-11-10T21:57:00.000000000Z  4424.00  4422.25  4423.50    1228  ES.v.0  \n2023-11-10T21:58:00.000000000Z  4425.00  4423.50  4424.00     839  ES.v.0  \n2023-11-10T21:59:00.000000000Z  4424.75  4423.50  4424.50     697  ES.v.0  \n\n[2274084 rows x 9 columns]",
      "text/html": "<div>\n<style scoped>\n    .dataframe tbody tr th:only-of-type {\n        vertical-align: middle;\n    }\n\n    .dataframe tbody tr th {\n        vertical-align: top;\n    }\n\n    .dataframe thead th {\n        text-align: right;\n    }\n</style>\n<table border=\"1\" class=\"dataframe\">\n  <thead>\n    <tr style=\"text-align: right;\">\n      <th></th>\n      <th>rtype</th>\n      <th>publisher_id</th>\n      <th>instrument_id</th>\n      <th>open</th>\n      <th>high</th>\n      <th>low</th>\n      <th>close</th>\n      <th>volume</th>\n      <th>symbol</th>\n    </tr>\n    <tr>\n      <th>ts_event</th>\n      <th></th>\n      <th></th>\n      <th></th>\n      <th></th>\n      <th></th>\n      <th></th>\n      <th></th>\n      <th></th>\n      <th></th>\n    </tr>\n  </thead>\n  <tbody>\n    <tr>\n      <th>2017-05-21T22:00:00.000000000Z</th>\n      <td>33</td>\n      <td>1</td>\n      <td>9006</td>\n      <td>2381.75</td>\n      <td>2382.25</td>\n      <td>2381.00</td>\n      <td>2382.00</td>\n      <td>1632</td>\n      <td>ES.v.0</td>\n    </tr>\n    <tr>\n      <th>2017-05-21T22:01:00.000000000Z</th>\n      <td>33</td>\n      <td>1</td>\n      <td>9006</td>\n      <td>2381.75</td>\n      <td>2382.00</td>\n      <td>2381.75</td>\n      <td>2381.75</td>\n      <td>209</td>\n      <td>ES.v.0</td>\n    </tr>\n    <tr>\n      <th>2017-05-21T22:02:00.000000000Z</th>\n      <td>33</td>\n      <td>1</td>\n      <td>9006</td>\n      <td>2382.00</td>\n      <td>2382.75</td>\n      <td>2382.00</td>\n      <td>2382.50</td>\n      <td>766</td>\n      <td>ES.v.0</td>\n    </tr>\n    <tr>\n      <th>2017-05-21T22:03:00.000000000Z</th>\n      <td>33</td>\n      <td>1</td>\n      <td>9006</td>\n      <td>2382.50</td>\n      <td>2383.25</td>\n      <td>2382.25</td>\n      <td>2383.00</td>\n      <td>824</td>\n      <td>ES.v.0</td>\n    </tr>\n    <tr>\n      <th>2017-05-21T22:04:00.000000000Z</th>\n      <td>33</td>\n      <td>1</td>\n      <td>9006</td>\n      <td>2383.25</td>\n      <td>2383.25</td>\n      <td>2382.75</td>\n      <td>2383.25</td>\n      <td>640</td>\n      <td>ES.v.0</td>\n    </tr>\n    <tr>\n      <th>...</th>\n      <td>...</td>\n      <td>...</td>\n      <td>...</td>\n      <td>...</td>\n      <td>...</td>\n      <td>...</td>\n      <td>...</td>\n      <td>...</td>\n      <td>...</td>\n    </tr>\n    <tr>\n      <th>2023-11-10T21:55:00.000000000Z</th>\n      <td>33</td>\n      <td>1</td>\n      <td>314863</td>\n      <td>4423.00</td>\n      <td>4423.25</td>\n      <td>4422.50</td>\n      <td>4423.00</td>\n      <td>551</td>\n      <td>ES.v.0</td>\n    </tr>\n    <tr>\n      <th>2023-11-10T21:56:00.000000000Z</th>\n      <td>33</td>\n      <td>1</td>\n      <td>314863</td>\n      <td>4423.00</td>\n      <td>4423.25</td>\n      <td>4422.00</td>\n      <td>4422.50</td>\n      <td>879</td>\n      <td>ES.v.0</td>\n    </tr>\n    <tr>\n      <th>2023-11-10T21:57:00.000000000Z</th>\n      <td>33</td>\n      <td>1</td>\n      <td>314863</td>\n      <td>4422.25</td>\n      <td>4424.00</td>\n      <td>4422.25</td>\n      <td>4423.50</td>\n      <td>1228</td>\n      <td>ES.v.0</td>\n    </tr>\n    <tr>\n      <th>2023-11-10T21:58:00.000000000Z</th>\n      <td>33</td>\n      <td>1</td>\n      <td>314863</td>\n      <td>4424.00</td>\n      <td>4425.00</td>\n      <td>4423.50</td>\n      <td>4424.00</td>\n      <td>839</td>\n      <td>ES.v.0</td>\n    </tr>\n    <tr>\n      <th>2023-11-10T21:59:00.000000000Z</th>\n      <td>33</td>\n      <td>1</td>\n      <td>314863</td>\n      <td>4424.25</td>\n      <td>4424.75</td>\n      <td>4423.50</td>\n      <td>4424.50</td>\n      <td>697</td>\n      <td>ES.v.0</td>\n    </tr>\n  </tbody>\n</table>\n<p>2274084 rows × 9 columns</p>\n</div>"
     },
     "execution_count": 9,
     "metadata": {},
     "output_type": "execute_result"
    }
   ],
   "source": [
    "filename = '../data/in/ES.ohlcv-1m.csv'\n",
    "df = pd.read_csv(filename, index_col='ts_event')\n",
    "\n",
    "df"
   ]
  },
  {
   "cell_type": "code",
   "execution_count": 13,
   "outputs": [],
   "source": [
    "# get split data from 2017-05-21 to 2017-11-30\n",
    "sample_df = df.loc['2017-05-21':'2017-11-30']\n",
    "# save sample df to a csv file\n",
    "sample_df.to_csv('../data/out/ES.ohlcv-1m.sample.csv')"
   ],
   "metadata": {
    "collapsed": false,
    "ExecuteTime": {
     "end_time": "2023-11-13T20:26:41.511625500Z",
     "start_time": "2023-11-13T20:26:40.072854600Z"
    }
   }
  },
  {
   "cell_type": "code",
   "execution_count": 8,
   "outputs": [
    {
     "data": {
      "text/plain": "                        open     high      low    close  volume\ntimestamp                                                      \n2023-10-22 18:00:00  4256.25  4260.50  4248.00  4256.00    8944\n2023-10-22 18:05:00  4255.75  4258.25  4254.75  4257.50    1981\n2023-10-22 18:10:00  4257.25  4260.50  4257.00  4259.75    1801\n2023-10-22 18:15:00  4259.50  4260.25  4257.25  4257.25     803\n2023-10-22 18:20:00  4257.50  4258.50  4257.25  4257.50     701\n...                      ...      ...      ...      ...     ...\n2023-11-06 16:35:00  4380.50  4380.75  4380.50  4380.50     408\n2023-11-06 16:40:00  4380.50  4381.50  4380.25  4381.25     950\n2023-11-06 16:45:00  4381.25  4381.25  4380.75  4381.00     597\n2023-11-06 16:50:00  4380.75  4381.00  4380.50  4381.00     590\n2023-11-06 16:55:00  4380.75  4381.00  4380.00  4380.25    1070\n\n[4308 rows x 5 columns]",
      "text/html": "<div>\n<style scoped>\n    .dataframe tbody tr th:only-of-type {\n        vertical-align: middle;\n    }\n\n    .dataframe tbody tr th {\n        vertical-align: top;\n    }\n\n    .dataframe thead th {\n        text-align: right;\n    }\n</style>\n<table border=\"1\" class=\"dataframe\">\n  <thead>\n    <tr style=\"text-align: right;\">\n      <th></th>\n      <th>open</th>\n      <th>high</th>\n      <th>low</th>\n      <th>close</th>\n      <th>volume</th>\n    </tr>\n    <tr>\n      <th>timestamp</th>\n      <th></th>\n      <th></th>\n      <th></th>\n      <th></th>\n      <th></th>\n    </tr>\n  </thead>\n  <tbody>\n    <tr>\n      <th>2023-10-22 18:00:00</th>\n      <td>4256.25</td>\n      <td>4260.50</td>\n      <td>4248.00</td>\n      <td>4256.00</td>\n      <td>8944</td>\n    </tr>\n    <tr>\n      <th>2023-10-22 18:05:00</th>\n      <td>4255.75</td>\n      <td>4258.25</td>\n      <td>4254.75</td>\n      <td>4257.50</td>\n      <td>1981</td>\n    </tr>\n    <tr>\n      <th>2023-10-22 18:10:00</th>\n      <td>4257.25</td>\n      <td>4260.50</td>\n      <td>4257.00</td>\n      <td>4259.75</td>\n      <td>1801</td>\n    </tr>\n    <tr>\n      <th>2023-10-22 18:15:00</th>\n      <td>4259.50</td>\n      <td>4260.25</td>\n      <td>4257.25</td>\n      <td>4257.25</td>\n      <td>803</td>\n    </tr>\n    <tr>\n      <th>2023-10-22 18:20:00</th>\n      <td>4257.50</td>\n      <td>4258.50</td>\n      <td>4257.25</td>\n      <td>4257.50</td>\n      <td>701</td>\n    </tr>\n    <tr>\n      <th>...</th>\n      <td>...</td>\n      <td>...</td>\n      <td>...</td>\n      <td>...</td>\n      <td>...</td>\n    </tr>\n    <tr>\n      <th>2023-11-06 16:35:00</th>\n      <td>4380.50</td>\n      <td>4380.75</td>\n      <td>4380.50</td>\n      <td>4380.50</td>\n      <td>408</td>\n    </tr>\n    <tr>\n      <th>2023-11-06 16:40:00</th>\n      <td>4380.50</td>\n      <td>4381.50</td>\n      <td>4380.25</td>\n      <td>4381.25</td>\n      <td>950</td>\n    </tr>\n    <tr>\n      <th>2023-11-06 16:45:00</th>\n      <td>4381.25</td>\n      <td>4381.25</td>\n      <td>4380.75</td>\n      <td>4381.00</td>\n      <td>597</td>\n    </tr>\n    <tr>\n      <th>2023-11-06 16:50:00</th>\n      <td>4380.75</td>\n      <td>4381.00</td>\n      <td>4380.50</td>\n      <td>4381.00</td>\n      <td>590</td>\n    </tr>\n    <tr>\n      <th>2023-11-06 16:55:00</th>\n      <td>4380.75</td>\n      <td>4381.00</td>\n      <td>4380.00</td>\n      <td>4380.25</td>\n      <td>1070</td>\n    </tr>\n  </tbody>\n</table>\n<p>4308 rows × 5 columns</p>\n</div>"
     },
     "execution_count": 8,
     "metadata": {},
     "output_type": "execute_result"
    }
   ],
   "source": [
    "df_15min = df.resample('5T').agg({'open': 'first', \n",
    "                                       'high': 'max',\n",
    "                                       'low': 'min',\n",
    "                                       'close': 'last',\n",
    "                                       'volume': 'sum'})\n"
   ],
   "metadata": {
    "collapsed": false,
    "ExecuteTime": {
     "end_time": "2023-11-07T12:57:00.393961400Z",
     "start_time": "2023-11-07T12:57:00.357583800Z"
    }
   }
  },
  {
   "cell_type": "code",
   "execution_count": null,
   "outputs": [],
   "source": [
    "# Create data visualization as chart bars\n"
   ],
   "metadata": {
    "collapsed": false
   }
  }
 ],
 "metadata": {
  "kernelspec": {
   "display_name": "venv",
   "language": "python",
   "name": "python3"
  },
  "language_info": {
   "codemirror_mode": {
    "name": "ipython",
    "version": 3
   },
   "file_extension": ".py",
   "mimetype": "text/x-python",
   "name": "python",
   "nbconvert_exporter": "python",
   "pygments_lexer": "ipython3",
   "version": "3.10.7"
  },
  "orig_nbformat": 4
 },
 "nbformat": 4,
 "nbformat_minor": 2
}
