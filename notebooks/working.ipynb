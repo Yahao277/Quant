{
 "cells": [
  {
   "cell_type": "code",
   "execution_count": 1,
   "id": "initial_id",
   "metadata": {
    "collapsed": true,
    "ExecuteTime": {
     "end_time": "2023-11-29T12:26:48.617696900Z",
     "start_time": "2023-11-29T12:26:48.230259100Z"
    }
   },
   "outputs": [],
   "source": [
    "import pandas as pd\n",
    "import numpy as np"
   ]
  },
  {
   "cell_type": "code",
   "execution_count": 2,
   "id": "8e12799747083659",
   "metadata": {
    "collapsed": false,
    "ExecuteTime": {
     "end_time": "2023-11-29T12:26:52.005341100Z",
     "start_time": "2023-11-29T12:26:50.116137Z"
    }
   },
   "outputs": [],
   "source": [
    "# Load sample data with ts_event as datetime index\n",
    "df = pd.read_csv('../data/out/ES.ohlcv-1m.sample.csv', index_col='ts_event', parse_dates=True)\n"
   ]
  },
  {
   "cell_type": "code",
   "execution_count": 3,
   "id": "fac03d7f8d7fdf64",
   "metadata": {
    "collapsed": false,
    "ExecuteTime": {
     "end_time": "2023-11-29T12:26:57.672289700Z",
     "start_time": "2023-11-29T12:26:57.606346900Z"
    }
   },
   "outputs": [],
   "source": [
    "regular_df = df.resample('5T').agg({'open': 'first', \n",
    "                                       'high': 'max',\n",
    "                                       'low': 'min',\n",
    "                                       'close': 'last',\n",
    "                                       'volume': 'sum'})\n",
    "# regular_df = df.asfreq('T')\n",
    "regular_df[regular_df.isna().any(axis=1)]\n",
    "\n",
    "# drop nan values\n",
    "regular_df.dropna(inplace=True)\n",
    "\n",
    "\n"
   ]
  },
  {
   "cell_type": "code",
   "execution_count": 14,
   "id": "5b8fde8a1f133c81",
   "metadata": {
    "collapsed": false,
    "ExecuteTime": {
     "end_time": "2023-11-29T12:39:16.000692700Z",
     "start_time": "2023-11-29T12:39:15.941035600Z"
    }
   },
   "outputs": [
    {
     "ename": "KeyError",
     "evalue": "1",
     "output_type": "error",
     "traceback": [
      "\u001B[1;31m---------------------------------------------------------------------------\u001B[0m",
      "\u001B[1;31mKeyError\u001B[0m                                  Traceback (most recent call last)",
      "Cell \u001B[1;32mIn[14], line 7\u001B[0m\n\u001B[0;32m      4\u001B[0m \u001B[38;5;66;03m# Get the first day\u001B[39;00m\n\u001B[0;32m      5\u001B[0m first_day \u001B[38;5;241m=\u001B[39m df_by_day\u001B[38;5;241m.\u001B[39mget_group(\u001B[38;5;28mlist\u001B[39m(df_by_day\u001B[38;5;241m.\u001B[39mgroups\u001B[38;5;241m.\u001B[39mkeys())[\u001B[38;5;241m1\u001B[39m])\n\u001B[1;32m----> 7\u001B[0m \u001B[43mdf_by_day\u001B[49m\u001B[38;5;241;43m.\u001B[39;49m\u001B[43mget_group\u001B[49m\u001B[43m(\u001B[49m\u001B[38;5;241;43m1\u001B[39;49m\u001B[43m)\u001B[49m\n",
      "File \u001B[1;32m~\\Documents\\--WorkSpace--\\Quant\\venv\\lib\\site-packages\\pandas\\core\\groupby\\groupby.py:800\u001B[0m, in \u001B[0;36mBaseGroupBy.get_group\u001B[1;34m(self, name, obj)\u001B[0m\n\u001B[0;32m    798\u001B[0m inds \u001B[38;5;241m=\u001B[39m \u001B[38;5;28mself\u001B[39m\u001B[38;5;241m.\u001B[39m_get_index(name)\n\u001B[0;32m    799\u001B[0m \u001B[38;5;28;01mif\u001B[39;00m \u001B[38;5;129;01mnot\u001B[39;00m \u001B[38;5;28mlen\u001B[39m(inds):\n\u001B[1;32m--> 800\u001B[0m     \u001B[38;5;28;01mraise\u001B[39;00m \u001B[38;5;167;01mKeyError\u001B[39;00m(name)\n\u001B[0;32m    802\u001B[0m \u001B[38;5;28;01mreturn\u001B[39;00m obj\u001B[38;5;241m.\u001B[39m_take_with_is_copy(inds, axis\u001B[38;5;241m=\u001B[39m\u001B[38;5;28mself\u001B[39m\u001B[38;5;241m.\u001B[39maxis)\n",
      "\u001B[1;31mKeyError\u001B[0m: 1"
     ]
    }
   ],
   "source": [
    "# Split dataframe by day\n",
    "df_by_day = regular_df.groupby(pd.Grouper(freq='D'))\n",
    "\n",
    "# Get the first day\n",
    "first_day = df_by_day.get_group(list(df_by_day.groups.keys())[1])\n",
    "\n",
    "df_by_day.get_group(1)\n"
   ]
  },
  {
   "cell_type": "code",
   "execution_count": 20,
   "metadata": {
    "ExecuteTime": {
     "end_time": "2023-11-29T13:53:32.111775600Z",
     "start_time": "2023-11-29T13:53:32.051835100Z"
    }
   },
   "outputs": [
    {
     "data": {
      "text/plain": "dict_keys([Timestamp('2017-05-21 00:00:00+0000', tz='UTC'), Timestamp('2017-05-22 00:00:00+0000', tz='UTC'), Timestamp('2017-05-23 00:00:00+0000', tz='UTC'), Timestamp('2017-05-24 00:00:00+0000', tz='UTC'), Timestamp('2017-05-25 00:00:00+0000', tz='UTC'), Timestamp('2017-05-26 00:00:00+0000', tz='UTC'), Timestamp('2017-05-27 00:00:00+0000', tz='UTC'), Timestamp('2017-05-28 00:00:00+0000', tz='UTC'), Timestamp('2017-05-29 00:00:00+0000', tz='UTC'), Timestamp('2017-05-30 00:00:00+0000', tz='UTC'), Timestamp('2017-05-31 00:00:00+0000', tz='UTC'), Timestamp('2017-06-01 00:00:00+0000', tz='UTC'), Timestamp('2017-06-02 00:00:00+0000', tz='UTC'), Timestamp('2017-06-03 00:00:00+0000', tz='UTC'), Timestamp('2017-06-04 00:00:00+0000', tz='UTC'), Timestamp('2017-06-05 00:00:00+0000', tz='UTC'), Timestamp('2017-06-06 00:00:00+0000', tz='UTC'), Timestamp('2017-06-07 00:00:00+0000', tz='UTC'), Timestamp('2017-06-08 00:00:00+0000', tz='UTC'), Timestamp('2017-06-09 00:00:00+0000', tz='UTC'), Timestamp('2017-06-10 00:00:00+0000', tz='UTC'), Timestamp('2017-06-11 00:00:00+0000', tz='UTC'), Timestamp('2017-06-12 00:00:00+0000', tz='UTC'), Timestamp('2017-06-13 00:00:00+0000', tz='UTC'), Timestamp('2017-06-14 00:00:00+0000', tz='UTC'), Timestamp('2017-06-15 00:00:00+0000', tz='UTC'), Timestamp('2017-06-16 00:00:00+0000', tz='UTC'), Timestamp('2017-06-17 00:00:00+0000', tz='UTC'), Timestamp('2017-06-18 00:00:00+0000', tz='UTC'), Timestamp('2017-06-19 00:00:00+0000', tz='UTC'), Timestamp('2017-06-20 00:00:00+0000', tz='UTC'), Timestamp('2017-06-21 00:00:00+0000', tz='UTC'), Timestamp('2017-06-22 00:00:00+0000', tz='UTC'), Timestamp('2017-06-23 00:00:00+0000', tz='UTC'), Timestamp('2017-06-24 00:00:00+0000', tz='UTC'), Timestamp('2017-06-25 00:00:00+0000', tz='UTC'), Timestamp('2017-06-26 00:00:00+0000', tz='UTC'), Timestamp('2017-06-27 00:00:00+0000', tz='UTC'), Timestamp('2017-06-28 00:00:00+0000', tz='UTC'), Timestamp('2017-06-29 00:00:00+0000', tz='UTC'), Timestamp('2017-06-30 00:00:00+0000', tz='UTC'), Timestamp('2017-07-01 00:00:00+0000', tz='UTC'), Timestamp('2017-07-02 00:00:00+0000', tz='UTC'), Timestamp('2017-07-03 00:00:00+0000', tz='UTC'), Timestamp('2017-07-04 00:00:00+0000', tz='UTC'), Timestamp('2017-07-05 00:00:00+0000', tz='UTC'), Timestamp('2017-07-06 00:00:00+0000', tz='UTC'), Timestamp('2017-07-07 00:00:00+0000', tz='UTC'), Timestamp('2017-07-08 00:00:00+0000', tz='UTC'), Timestamp('2017-07-09 00:00:00+0000', tz='UTC'), Timestamp('2017-07-10 00:00:00+0000', tz='UTC'), Timestamp('2017-07-11 00:00:00+0000', tz='UTC'), Timestamp('2017-07-12 00:00:00+0000', tz='UTC'), Timestamp('2017-07-13 00:00:00+0000', tz='UTC'), Timestamp('2017-07-14 00:00:00+0000', tz='UTC'), Timestamp('2017-07-15 00:00:00+0000', tz='UTC'), Timestamp('2017-07-16 00:00:00+0000', tz='UTC'), Timestamp('2017-07-17 00:00:00+0000', tz='UTC'), Timestamp('2017-07-18 00:00:00+0000', tz='UTC'), Timestamp('2017-07-19 00:00:00+0000', tz='UTC'), Timestamp('2017-07-20 00:00:00+0000', tz='UTC'), Timestamp('2017-07-21 00:00:00+0000', tz='UTC'), Timestamp('2017-07-22 00:00:00+0000', tz='UTC'), Timestamp('2017-07-23 00:00:00+0000', tz='UTC'), Timestamp('2017-07-24 00:00:00+0000', tz='UTC'), Timestamp('2017-07-25 00:00:00+0000', tz='UTC'), Timestamp('2017-07-26 00:00:00+0000', tz='UTC'), Timestamp('2017-07-27 00:00:00+0000', tz='UTC'), Timestamp('2017-07-28 00:00:00+0000', tz='UTC'), Timestamp('2017-07-29 00:00:00+0000', tz='UTC'), Timestamp('2017-07-30 00:00:00+0000', tz='UTC'), Timestamp('2017-07-31 00:00:00+0000', tz='UTC'), Timestamp('2017-08-01 00:00:00+0000', tz='UTC'), Timestamp('2017-08-02 00:00:00+0000', tz='UTC'), Timestamp('2017-08-03 00:00:00+0000', tz='UTC'), Timestamp('2017-08-04 00:00:00+0000', tz='UTC'), Timestamp('2017-08-05 00:00:00+0000', tz='UTC'), Timestamp('2017-08-06 00:00:00+0000', tz='UTC'), Timestamp('2017-08-07 00:00:00+0000', tz='UTC'), Timestamp('2017-08-08 00:00:00+0000', tz='UTC'), Timestamp('2017-08-09 00:00:00+0000', tz='UTC'), Timestamp('2017-08-10 00:00:00+0000', tz='UTC'), Timestamp('2017-08-11 00:00:00+0000', tz='UTC'), Timestamp('2017-08-12 00:00:00+0000', tz='UTC'), Timestamp('2017-08-13 00:00:00+0000', tz='UTC'), Timestamp('2017-08-14 00:00:00+0000', tz='UTC'), Timestamp('2017-08-15 00:00:00+0000', tz='UTC'), Timestamp('2017-08-16 00:00:00+0000', tz='UTC'), Timestamp('2017-08-17 00:00:00+0000', tz='UTC'), Timestamp('2017-08-18 00:00:00+0000', tz='UTC'), Timestamp('2017-08-19 00:00:00+0000', tz='UTC'), Timestamp('2017-08-20 00:00:00+0000', tz='UTC'), Timestamp('2017-08-21 00:00:00+0000', tz='UTC'), Timestamp('2017-08-22 00:00:00+0000', tz='UTC'), Timestamp('2017-08-23 00:00:00+0000', tz='UTC'), Timestamp('2017-08-24 00:00:00+0000', tz='UTC'), Timestamp('2017-08-25 00:00:00+0000', tz='UTC'), Timestamp('2017-08-26 00:00:00+0000', tz='UTC'), Timestamp('2017-08-27 00:00:00+0000', tz='UTC'), Timestamp('2017-08-28 00:00:00+0000', tz='UTC'), Timestamp('2017-08-29 00:00:00+0000', tz='UTC'), Timestamp('2017-08-30 00:00:00+0000', tz='UTC'), Timestamp('2017-08-31 00:00:00+0000', tz='UTC'), Timestamp('2017-09-01 00:00:00+0000', tz='UTC'), Timestamp('2017-09-02 00:00:00+0000', tz='UTC'), Timestamp('2017-09-03 00:00:00+0000', tz='UTC'), Timestamp('2017-09-04 00:00:00+0000', tz='UTC'), Timestamp('2017-09-05 00:00:00+0000', tz='UTC'), Timestamp('2017-09-06 00:00:00+0000', tz='UTC'), Timestamp('2017-09-07 00:00:00+0000', tz='UTC'), Timestamp('2017-09-08 00:00:00+0000', tz='UTC'), Timestamp('2017-09-09 00:00:00+0000', tz='UTC'), Timestamp('2017-09-10 00:00:00+0000', tz='UTC'), Timestamp('2017-09-11 00:00:00+0000', tz='UTC'), Timestamp('2017-09-12 00:00:00+0000', tz='UTC'), Timestamp('2017-09-13 00:00:00+0000', tz='UTC'), Timestamp('2017-09-14 00:00:00+0000', tz='UTC'), Timestamp('2017-09-15 00:00:00+0000', tz='UTC'), Timestamp('2017-09-16 00:00:00+0000', tz='UTC'), Timestamp('2017-09-17 00:00:00+0000', tz='UTC'), Timestamp('2017-09-18 00:00:00+0000', tz='UTC'), Timestamp('2017-09-19 00:00:00+0000', tz='UTC'), Timestamp('2017-09-20 00:00:00+0000', tz='UTC'), Timestamp('2017-09-21 00:00:00+0000', tz='UTC'), Timestamp('2017-09-22 00:00:00+0000', tz='UTC'), Timestamp('2017-09-23 00:00:00+0000', tz='UTC'), Timestamp('2017-09-24 00:00:00+0000', tz='UTC'), Timestamp('2017-09-25 00:00:00+0000', tz='UTC'), Timestamp('2017-09-26 00:00:00+0000', tz='UTC'), Timestamp('2017-09-27 00:00:00+0000', tz='UTC'), Timestamp('2017-09-28 00:00:00+0000', tz='UTC'), Timestamp('2017-09-29 00:00:00+0000', tz='UTC'), Timestamp('2017-09-30 00:00:00+0000', tz='UTC'), Timestamp('2017-10-01 00:00:00+0000', tz='UTC'), Timestamp('2017-10-02 00:00:00+0000', tz='UTC'), Timestamp('2017-10-03 00:00:00+0000', tz='UTC'), Timestamp('2017-10-04 00:00:00+0000', tz='UTC'), Timestamp('2017-10-05 00:00:00+0000', tz='UTC'), Timestamp('2017-10-06 00:00:00+0000', tz='UTC'), Timestamp('2017-10-07 00:00:00+0000', tz='UTC'), Timestamp('2017-10-08 00:00:00+0000', tz='UTC'), Timestamp('2017-10-09 00:00:00+0000', tz='UTC'), Timestamp('2017-10-10 00:00:00+0000', tz='UTC'), Timestamp('2017-10-11 00:00:00+0000', tz='UTC'), Timestamp('2017-10-12 00:00:00+0000', tz='UTC'), Timestamp('2017-10-13 00:00:00+0000', tz='UTC'), Timestamp('2017-10-14 00:00:00+0000', tz='UTC'), Timestamp('2017-10-15 00:00:00+0000', tz='UTC'), Timestamp('2017-10-16 00:00:00+0000', tz='UTC'), Timestamp('2017-10-17 00:00:00+0000', tz='UTC'), Timestamp('2017-10-18 00:00:00+0000', tz='UTC'), Timestamp('2017-10-19 00:00:00+0000', tz='UTC'), Timestamp('2017-10-20 00:00:00+0000', tz='UTC'), Timestamp('2017-10-21 00:00:00+0000', tz='UTC'), Timestamp('2017-10-22 00:00:00+0000', tz='UTC'), Timestamp('2017-10-23 00:00:00+0000', tz='UTC'), Timestamp('2017-10-24 00:00:00+0000', tz='UTC'), Timestamp('2017-10-25 00:00:00+0000', tz='UTC'), Timestamp('2017-10-26 00:00:00+0000', tz='UTC'), Timestamp('2017-10-27 00:00:00+0000', tz='UTC'), Timestamp('2017-10-28 00:00:00+0000', tz='UTC'), Timestamp('2017-10-29 00:00:00+0000', tz='UTC'), Timestamp('2017-10-30 00:00:00+0000', tz='UTC'), Timestamp('2017-10-31 00:00:00+0000', tz='UTC'), Timestamp('2017-11-01 00:00:00+0000', tz='UTC'), Timestamp('2017-11-02 00:00:00+0000', tz='UTC'), Timestamp('2017-11-03 00:00:00+0000', tz='UTC'), Timestamp('2017-11-04 00:00:00+0000', tz='UTC'), Timestamp('2017-11-05 00:00:00+0000', tz='UTC'), Timestamp('2017-11-06 00:00:00+0000', tz='UTC'), Timestamp('2017-11-07 00:00:00+0000', tz='UTC'), Timestamp('2017-11-08 00:00:00+0000', tz='UTC'), Timestamp('2017-11-09 00:00:00+0000', tz='UTC'), Timestamp('2017-11-10 00:00:00+0000', tz='UTC'), Timestamp('2017-11-11 00:00:00+0000', tz='UTC'), Timestamp('2017-11-12 00:00:00+0000', tz='UTC'), Timestamp('2017-11-13 00:00:00+0000', tz='UTC'), Timestamp('2017-11-14 00:00:00+0000', tz='UTC'), Timestamp('2017-11-15 00:00:00+0000', tz='UTC'), Timestamp('2017-11-16 00:00:00+0000', tz='UTC'), Timestamp('2017-11-17 00:00:00+0000', tz='UTC'), Timestamp('2017-11-18 00:00:00+0000', tz='UTC'), Timestamp('2017-11-19 00:00:00+0000', tz='UTC'), Timestamp('2017-11-20 00:00:00+0000', tz='UTC'), Timestamp('2017-11-21 00:00:00+0000', tz='UTC'), Timestamp('2017-11-22 00:00:00+0000', tz='UTC'), Timestamp('2017-11-23 00:00:00+0000', tz='UTC'), Timestamp('2017-11-24 00:00:00+0000', tz='UTC'), Timestamp('2017-11-25 00:00:00+0000', tz='UTC'), Timestamp('2017-11-26 00:00:00+0000', tz='UTC'), Timestamp('2017-11-27 00:00:00+0000', tz='UTC'), Timestamp('2017-11-28 00:00:00+0000', tz='UTC'), Timestamp('2017-11-29 00:00:00+0000', tz='UTC')])"
     },
     "execution_count": 20,
     "metadata": {},
     "output_type": "execute_result"
    }
   ],
   "source": [
    "df_by_day.groups.keys()\n"
   ],
   "id": "24786343be3d7ab8"
  },
  {
   "cell_type": "code",
   "execution_count": 27,
   "outputs": [
    {
     "data": {
      "text/plain": "                              open     high      low    close  volume\nts_event                                                             \n2017-05-28 22:00:00+00:00  2414.00  2414.75  2413.75  2414.50     969\n2017-05-28 22:05:00+00:00  2414.75  2416.75  2414.75  2415.75    1789\n2017-05-28 22:10:00+00:00  2415.75  2416.00  2415.50  2415.50     108\n2017-05-28 22:15:00+00:00  2415.25  2415.75  2415.25  2415.50     631\n2017-05-28 22:20:00+00:00  2415.50  2415.75  2415.25  2415.75      75\n2017-05-28 22:25:00+00:00  2415.75  2415.75  2415.50  2415.50      86\n2017-05-28 22:30:00+00:00  2415.75  2416.25  2415.50  2416.00     315\n2017-05-28 22:35:00+00:00  2416.00  2416.25  2416.00  2416.00      77\n2017-05-28 22:40:00+00:00  2415.75  2416.00  2415.75  2415.75      65\n2017-05-28 22:45:00+00:00  2415.75  2416.00  2415.75  2416.00      40\n2017-05-28 22:50:00+00:00  2416.00  2416.50  2416.00  2416.25     342\n2017-05-28 22:55:00+00:00  2416.25  2417.00  2416.25  2416.75     322\n2017-05-28 23:00:00+00:00  2416.50  2417.00  2416.50  2416.50     295\n2017-05-28 23:05:00+00:00  2416.50  2416.50  2416.50  2416.50      35\n2017-05-28 23:10:00+00:00  2416.50  2416.75  2416.50  2416.75      76\n2017-05-28 23:15:00+00:00  2416.75  2416.75  2416.50  2416.75      71\n2017-05-28 23:20:00+00:00  2416.50  2416.50  2416.50  2416.50      13\n2017-05-28 23:25:00+00:00  2416.50  2416.75  2416.50  2416.50     102\n2017-05-28 23:30:00+00:00  2416.50  2416.75  2416.00  2416.00     248\n2017-05-28 23:35:00+00:00  2416.00  2416.25  2416.00  2416.25      12\n2017-05-28 23:40:00+00:00  2416.00  2416.00  2415.75  2415.75      75\n2017-05-28 23:45:00+00:00  2415.75  2415.75  2415.50  2415.75     150\n2017-05-28 23:50:00+00:00  2415.75  2416.00  2415.50  2415.50     133\n2017-05-28 23:55:00+00:00  2415.75  2415.75  2415.50  2415.75     125",
      "text/html": "<div>\n<style scoped>\n    .dataframe tbody tr th:only-of-type {\n        vertical-align: middle;\n    }\n\n    .dataframe tbody tr th {\n        vertical-align: top;\n    }\n\n    .dataframe thead th {\n        text-align: right;\n    }\n</style>\n<table border=\"1\" class=\"dataframe\">\n  <thead>\n    <tr style=\"text-align: right;\">\n      <th></th>\n      <th>open</th>\n      <th>high</th>\n      <th>low</th>\n      <th>close</th>\n      <th>volume</th>\n    </tr>\n    <tr>\n      <th>ts_event</th>\n      <th></th>\n      <th></th>\n      <th></th>\n      <th></th>\n      <th></th>\n    </tr>\n  </thead>\n  <tbody>\n    <tr>\n      <th>2017-05-28 22:00:00+00:00</th>\n      <td>2414.00</td>\n      <td>2414.75</td>\n      <td>2413.75</td>\n      <td>2414.50</td>\n      <td>969</td>\n    </tr>\n    <tr>\n      <th>2017-05-28 22:05:00+00:00</th>\n      <td>2414.75</td>\n      <td>2416.75</td>\n      <td>2414.75</td>\n      <td>2415.75</td>\n      <td>1789</td>\n    </tr>\n    <tr>\n      <th>2017-05-28 22:10:00+00:00</th>\n      <td>2415.75</td>\n      <td>2416.00</td>\n      <td>2415.50</td>\n      <td>2415.50</td>\n      <td>108</td>\n    </tr>\n    <tr>\n      <th>2017-05-28 22:15:00+00:00</th>\n      <td>2415.25</td>\n      <td>2415.75</td>\n      <td>2415.25</td>\n      <td>2415.50</td>\n      <td>631</td>\n    </tr>\n    <tr>\n      <th>2017-05-28 22:20:00+00:00</th>\n      <td>2415.50</td>\n      <td>2415.75</td>\n      <td>2415.25</td>\n      <td>2415.75</td>\n      <td>75</td>\n    </tr>\n    <tr>\n      <th>2017-05-28 22:25:00+00:00</th>\n      <td>2415.75</td>\n      <td>2415.75</td>\n      <td>2415.50</td>\n      <td>2415.50</td>\n      <td>86</td>\n    </tr>\n    <tr>\n      <th>2017-05-28 22:30:00+00:00</th>\n      <td>2415.75</td>\n      <td>2416.25</td>\n      <td>2415.50</td>\n      <td>2416.00</td>\n      <td>315</td>\n    </tr>\n    <tr>\n      <th>2017-05-28 22:35:00+00:00</th>\n      <td>2416.00</td>\n      <td>2416.25</td>\n      <td>2416.00</td>\n      <td>2416.00</td>\n      <td>77</td>\n    </tr>\n    <tr>\n      <th>2017-05-28 22:40:00+00:00</th>\n      <td>2415.75</td>\n      <td>2416.00</td>\n      <td>2415.75</td>\n      <td>2415.75</td>\n      <td>65</td>\n    </tr>\n    <tr>\n      <th>2017-05-28 22:45:00+00:00</th>\n      <td>2415.75</td>\n      <td>2416.00</td>\n      <td>2415.75</td>\n      <td>2416.00</td>\n      <td>40</td>\n    </tr>\n    <tr>\n      <th>2017-05-28 22:50:00+00:00</th>\n      <td>2416.00</td>\n      <td>2416.50</td>\n      <td>2416.00</td>\n      <td>2416.25</td>\n      <td>342</td>\n    </tr>\n    <tr>\n      <th>2017-05-28 22:55:00+00:00</th>\n      <td>2416.25</td>\n      <td>2417.00</td>\n      <td>2416.25</td>\n      <td>2416.75</td>\n      <td>322</td>\n    </tr>\n    <tr>\n      <th>2017-05-28 23:00:00+00:00</th>\n      <td>2416.50</td>\n      <td>2417.00</td>\n      <td>2416.50</td>\n      <td>2416.50</td>\n      <td>295</td>\n    </tr>\n    <tr>\n      <th>2017-05-28 23:05:00+00:00</th>\n      <td>2416.50</td>\n      <td>2416.50</td>\n      <td>2416.50</td>\n      <td>2416.50</td>\n      <td>35</td>\n    </tr>\n    <tr>\n      <th>2017-05-28 23:10:00+00:00</th>\n      <td>2416.50</td>\n      <td>2416.75</td>\n      <td>2416.50</td>\n      <td>2416.75</td>\n      <td>76</td>\n    </tr>\n    <tr>\n      <th>2017-05-28 23:15:00+00:00</th>\n      <td>2416.75</td>\n      <td>2416.75</td>\n      <td>2416.50</td>\n      <td>2416.75</td>\n      <td>71</td>\n    </tr>\n    <tr>\n      <th>2017-05-28 23:20:00+00:00</th>\n      <td>2416.50</td>\n      <td>2416.50</td>\n      <td>2416.50</td>\n      <td>2416.50</td>\n      <td>13</td>\n    </tr>\n    <tr>\n      <th>2017-05-28 23:25:00+00:00</th>\n      <td>2416.50</td>\n      <td>2416.75</td>\n      <td>2416.50</td>\n      <td>2416.50</td>\n      <td>102</td>\n    </tr>\n    <tr>\n      <th>2017-05-28 23:30:00+00:00</th>\n      <td>2416.50</td>\n      <td>2416.75</td>\n      <td>2416.00</td>\n      <td>2416.00</td>\n      <td>248</td>\n    </tr>\n    <tr>\n      <th>2017-05-28 23:35:00+00:00</th>\n      <td>2416.00</td>\n      <td>2416.25</td>\n      <td>2416.00</td>\n      <td>2416.25</td>\n      <td>12</td>\n    </tr>\n    <tr>\n      <th>2017-05-28 23:40:00+00:00</th>\n      <td>2416.00</td>\n      <td>2416.00</td>\n      <td>2415.75</td>\n      <td>2415.75</td>\n      <td>75</td>\n    </tr>\n    <tr>\n      <th>2017-05-28 23:45:00+00:00</th>\n      <td>2415.75</td>\n      <td>2415.75</td>\n      <td>2415.50</td>\n      <td>2415.75</td>\n      <td>150</td>\n    </tr>\n    <tr>\n      <th>2017-05-28 23:50:00+00:00</th>\n      <td>2415.75</td>\n      <td>2416.00</td>\n      <td>2415.50</td>\n      <td>2415.50</td>\n      <td>133</td>\n    </tr>\n    <tr>\n      <th>2017-05-28 23:55:00+00:00</th>\n      <td>2415.75</td>\n      <td>2415.75</td>\n      <td>2415.50</td>\n      <td>2415.75</td>\n      <td>125</td>\n    </tr>\n  </tbody>\n</table>\n</div>"
     },
     "execution_count": 27,
     "metadata": {},
     "output_type": "execute_result"
    }
   ],
   "source": [
    "# Access by timestamp\n",
    "df_by_day.get_group(pd.Timestamp('2017-05-28', tz='UTC'))"
   ],
   "metadata": {
    "collapsed": false,
    "ExecuteTime": {
     "end_time": "2023-11-29T13:55:54.706302800Z",
     "start_time": "2023-11-29T13:55:54.668179600Z"
    }
   },
   "id": "2a07d0c2734b63a8"
  },
  {
   "cell_type": "code",
   "execution_count": 24,
   "outputs": [
    {
     "data": {
      "text/plain": "Timestamp('2017-05-28 00:00:00+0000', tz='UTC')"
     },
     "execution_count": 24,
     "metadata": {},
     "output_type": "execute_result"
    }
   ],
   "source": [],
   "metadata": {
    "collapsed": false,
    "ExecuteTime": {
     "end_time": "2023-11-29T13:55:30.641948800Z",
     "start_time": "2023-11-29T13:55:30.624418500Z"
    }
   },
   "id": "5773e55003bcb6c9"
  },
  {
   "cell_type": "markdown",
   "id": "97b320e73b3e1db9",
   "metadata": {
    "collapsed": false
   },
   "source": [
    "# Backtesting with backtesting.py\n",
    "Running a sample Strategy with backtesting.py"
   ]
  },
  {
   "cell_type": "code",
   "execution_count": 4,
   "id": "7cb018179e8a56fe",
   "metadata": {
    "collapsed": false
   },
   "outputs": [],
   "source": [
    "import sys\n",
    "sys.path.append('../lib')\n",
    "from cleaning import resample"
   ]
  },
  {
   "cell_type": "code",
   "execution_count": 24,
   "id": "e7cbe2df78ff84f7",
   "metadata": {
    "ExecuteTime": {
     "end_time": "2023-11-14T16:16:32.102703200Z",
     "start_time": "2023-11-14T16:16:32.042308400Z"
    },
    "collapsed": false
   },
   "outputs": [
    {
     "data": {
      "text/html": [
       "<div>\n",
       "<style scoped>\n",
       "    .dataframe tbody tr th:only-of-type {\n",
       "        vertical-align: middle;\n",
       "    }\n",
       "\n",
       "    .dataframe tbody tr th {\n",
       "        vertical-align: top;\n",
       "    }\n",
       "\n",
       "    .dataframe thead th {\n",
       "        text-align: right;\n",
       "    }\n",
       "</style>\n",
       "<table border=\"1\" class=\"dataframe\">\n",
       "  <thead>\n",
       "    <tr style=\"text-align: right;\">\n",
       "      <th></th>\n",
       "      <th>open</th>\n",
       "      <th>high</th>\n",
       "      <th>low</th>\n",
       "      <th>close</th>\n",
       "      <th>volume</th>\n",
       "    </tr>\n",
       "    <tr>\n",
       "      <th>ts_event</th>\n",
       "      <th></th>\n",
       "      <th></th>\n",
       "      <th></th>\n",
       "      <th></th>\n",
       "      <th></th>\n",
       "    </tr>\n",
       "  </thead>\n",
       "  <tbody>\n",
       "    <tr>\n",
       "      <th>2017-05-21 22:00:00+00:00</th>\n",
       "      <td>2381.75</td>\n",
       "      <td>2383.25</td>\n",
       "      <td>2381.00</td>\n",
       "      <td>2383.25</td>\n",
       "      <td>4071</td>\n",
       "    </tr>\n",
       "    <tr>\n",
       "      <th>2017-05-21 22:05:00+00:00</th>\n",
       "      <td>2383.00</td>\n",
       "      <td>2384.00</td>\n",
       "      <td>2382.75</td>\n",
       "      <td>2383.00</td>\n",
       "      <td>1005</td>\n",
       "    </tr>\n",
       "    <tr>\n",
       "      <th>2017-05-21 22:10:00+00:00</th>\n",
       "      <td>2383.00</td>\n",
       "      <td>2383.25</td>\n",
       "      <td>2382.00</td>\n",
       "      <td>2382.25</td>\n",
       "      <td>770</td>\n",
       "    </tr>\n",
       "    <tr>\n",
       "      <th>2017-05-21 22:15:00+00:00</th>\n",
       "      <td>2382.25</td>\n",
       "      <td>2382.50</td>\n",
       "      <td>2382.00</td>\n",
       "      <td>2382.50</td>\n",
       "      <td>401</td>\n",
       "    </tr>\n",
       "    <tr>\n",
       "      <th>2017-05-21 22:20:00+00:00</th>\n",
       "      <td>2382.50</td>\n",
       "      <td>2382.75</td>\n",
       "      <td>2382.25</td>\n",
       "      <td>2382.50</td>\n",
       "      <td>316</td>\n",
       "    </tr>\n",
       "    <tr>\n",
       "      <th>...</th>\n",
       "      <td>...</td>\n",
       "      <td>...</td>\n",
       "      <td>...</td>\n",
       "      <td>...</td>\n",
       "      <td>...</td>\n",
       "    </tr>\n",
       "    <tr>\n",
       "      <th>2017-11-29 23:35:00+00:00</th>\n",
       "      <td>2625.00</td>\n",
       "      <td>2625.50</td>\n",
       "      <td>2625.00</td>\n",
       "      <td>2625.25</td>\n",
       "      <td>126</td>\n",
       "    </tr>\n",
       "    <tr>\n",
       "      <th>2017-11-29 23:40:00+00:00</th>\n",
       "      <td>2625.25</td>\n",
       "      <td>2625.50</td>\n",
       "      <td>2625.25</td>\n",
       "      <td>2625.50</td>\n",
       "      <td>101</td>\n",
       "    </tr>\n",
       "    <tr>\n",
       "      <th>2017-11-29 23:45:00+00:00</th>\n",
       "      <td>2625.50</td>\n",
       "      <td>2625.50</td>\n",
       "      <td>2625.25</td>\n",
       "      <td>2625.25</td>\n",
       "      <td>90</td>\n",
       "    </tr>\n",
       "    <tr>\n",
       "      <th>2017-11-29 23:50:00+00:00</th>\n",
       "      <td>2625.25</td>\n",
       "      <td>2625.50</td>\n",
       "      <td>2624.50</td>\n",
       "      <td>2624.50</td>\n",
       "      <td>377</td>\n",
       "    </tr>\n",
       "    <tr>\n",
       "      <th>2017-11-29 23:55:00+00:00</th>\n",
       "      <td>2624.75</td>\n",
       "      <td>2624.75</td>\n",
       "      <td>2624.00</td>\n",
       "      <td>2624.00</td>\n",
       "      <td>762</td>\n",
       "    </tr>\n",
       "  </tbody>\n",
       "</table>\n",
       "<p>55320 rows × 5 columns</p>\n",
       "</div>"
      ],
      "text/plain": [
       "                              open     high      low    close  volume\n",
       "ts_event                                                             \n",
       "2017-05-21 22:00:00+00:00  2381.75  2383.25  2381.00  2383.25    4071\n",
       "2017-05-21 22:05:00+00:00  2383.00  2384.00  2382.75  2383.00    1005\n",
       "2017-05-21 22:10:00+00:00  2383.00  2383.25  2382.00  2382.25     770\n",
       "2017-05-21 22:15:00+00:00  2382.25  2382.50  2382.00  2382.50     401\n",
       "2017-05-21 22:20:00+00:00  2382.50  2382.75  2382.25  2382.50     316\n",
       "...                            ...      ...      ...      ...     ...\n",
       "2017-11-29 23:35:00+00:00  2625.00  2625.50  2625.00  2625.25     126\n",
       "2017-11-29 23:40:00+00:00  2625.25  2625.50  2625.25  2625.50     101\n",
       "2017-11-29 23:45:00+00:00  2625.50  2625.50  2625.25  2625.25      90\n",
       "2017-11-29 23:50:00+00:00  2625.25  2625.50  2624.50  2624.50     377\n",
       "2017-11-29 23:55:00+00:00  2624.75  2624.75  2624.00  2624.00     762\n",
       "\n",
       "[55320 rows x 5 columns]"
      ]
     },
     "execution_count": 24,
     "metadata": {},
     "output_type": "execute_result"
    }
   ],
   "source": [
    "\n",
    "resampled_df = resample(df, '5T')\n",
    "resampled_df"
   ]
  },
  {
   "cell_type": "code",
   "execution_count": 25,
   "id": "3e82f3160dfb0e3e",
   "metadata": {
    "ExecuteTime": {
     "end_time": "2023-11-14T16:16:51.234292400Z",
     "start_time": "2023-11-14T16:16:51.171530300Z"
    },
    "collapsed": false
   },
   "outputs": [
    {
     "data": {
      "text/html": [
       "<div>\n",
       "<style scoped>\n",
       "    .dataframe tbody tr th:only-of-type {\n",
       "        vertical-align: middle;\n",
       "    }\n",
       "\n",
       "    .dataframe tbody tr th {\n",
       "        vertical-align: top;\n",
       "    }\n",
       "\n",
       "    .dataframe thead th {\n",
       "        text-align: right;\n",
       "    }\n",
       "</style>\n",
       "<table border=\"1\" class=\"dataframe\">\n",
       "  <thead>\n",
       "    <tr style=\"text-align: right;\">\n",
       "      <th></th>\n",
       "      <th>open</th>\n",
       "      <th>high</th>\n",
       "      <th>low</th>\n",
       "      <th>close</th>\n",
       "      <th>volume</th>\n",
       "    </tr>\n",
       "    <tr>\n",
       "      <th>ts_event</th>\n",
       "      <th></th>\n",
       "      <th></th>\n",
       "      <th></th>\n",
       "      <th></th>\n",
       "      <th></th>\n",
       "    </tr>\n",
       "  </thead>\n",
       "  <tbody>\n",
       "    <tr>\n",
       "      <th>2017-05-22 20:15:00+00:00</th>\n",
       "      <td>NaN</td>\n",
       "      <td>NaN</td>\n",
       "      <td>NaN</td>\n",
       "      <td>NaN</td>\n",
       "      <td>0</td>\n",
       "    </tr>\n",
       "    <tr>\n",
       "      <th>2017-05-22 20:20:00+00:00</th>\n",
       "      <td>NaN</td>\n",
       "      <td>NaN</td>\n",
       "      <td>NaN</td>\n",
       "      <td>NaN</td>\n",
       "      <td>0</td>\n",
       "    </tr>\n",
       "    <tr>\n",
       "      <th>2017-05-22 20:25:00+00:00</th>\n",
       "      <td>NaN</td>\n",
       "      <td>NaN</td>\n",
       "      <td>NaN</td>\n",
       "      <td>NaN</td>\n",
       "      <td>0</td>\n",
       "    </tr>\n",
       "    <tr>\n",
       "      <th>2017-05-22 21:00:00+00:00</th>\n",
       "      <td>NaN</td>\n",
       "      <td>NaN</td>\n",
       "      <td>NaN</td>\n",
       "      <td>NaN</td>\n",
       "      <td>0</td>\n",
       "    </tr>\n",
       "    <tr>\n",
       "      <th>2017-05-22 21:05:00+00:00</th>\n",
       "      <td>NaN</td>\n",
       "      <td>NaN</td>\n",
       "      <td>NaN</td>\n",
       "      <td>NaN</td>\n",
       "      <td>0</td>\n",
       "    </tr>\n",
       "    <tr>\n",
       "      <th>...</th>\n",
       "      <td>...</td>\n",
       "      <td>...</td>\n",
       "      <td>...</td>\n",
       "      <td>...</td>\n",
       "      <td>...</td>\n",
       "    </tr>\n",
       "    <tr>\n",
       "      <th>2017-11-29 22:35:00+00:00</th>\n",
       "      <td>NaN</td>\n",
       "      <td>NaN</td>\n",
       "      <td>NaN</td>\n",
       "      <td>NaN</td>\n",
       "      <td>0</td>\n",
       "    </tr>\n",
       "    <tr>\n",
       "      <th>2017-11-29 22:40:00+00:00</th>\n",
       "      <td>NaN</td>\n",
       "      <td>NaN</td>\n",
       "      <td>NaN</td>\n",
       "      <td>NaN</td>\n",
       "      <td>0</td>\n",
       "    </tr>\n",
       "    <tr>\n",
       "      <th>2017-11-29 22:45:00+00:00</th>\n",
       "      <td>NaN</td>\n",
       "      <td>NaN</td>\n",
       "      <td>NaN</td>\n",
       "      <td>NaN</td>\n",
       "      <td>0</td>\n",
       "    </tr>\n",
       "    <tr>\n",
       "      <th>2017-11-29 22:50:00+00:00</th>\n",
       "      <td>NaN</td>\n",
       "      <td>NaN</td>\n",
       "      <td>NaN</td>\n",
       "      <td>NaN</td>\n",
       "      <td>0</td>\n",
       "    </tr>\n",
       "    <tr>\n",
       "      <th>2017-11-29 22:55:00+00:00</th>\n",
       "      <td>NaN</td>\n",
       "      <td>NaN</td>\n",
       "      <td>NaN</td>\n",
       "      <td>NaN</td>\n",
       "      <td>0</td>\n",
       "    </tr>\n",
       "  </tbody>\n",
       "</table>\n",
       "<p>17897 rows × 5 columns</p>\n",
       "</div>"
      ],
      "text/plain": [
       "                           open  high  low  close  volume\n",
       "ts_event                                                 \n",
       "2017-05-22 20:15:00+00:00   NaN   NaN  NaN    NaN       0\n",
       "2017-05-22 20:20:00+00:00   NaN   NaN  NaN    NaN       0\n",
       "2017-05-22 20:25:00+00:00   NaN   NaN  NaN    NaN       0\n",
       "2017-05-22 21:00:00+00:00   NaN   NaN  NaN    NaN       0\n",
       "2017-05-22 21:05:00+00:00   NaN   NaN  NaN    NaN       0\n",
       "...                         ...   ...  ...    ...     ...\n",
       "2017-11-29 22:35:00+00:00   NaN   NaN  NaN    NaN       0\n",
       "2017-11-29 22:40:00+00:00   NaN   NaN  NaN    NaN       0\n",
       "2017-11-29 22:45:00+00:00   NaN   NaN  NaN    NaN       0\n",
       "2017-11-29 22:50:00+00:00   NaN   NaN  NaN    NaN       0\n",
       "2017-11-29 22:55:00+00:00   NaN   NaN  NaN    NaN       0\n",
       "\n",
       "[17897 rows x 5 columns]"
      ]
     },
     "execution_count": 25,
     "metadata": {},
     "output_type": "execute_result"
    }
   ],
   "source": [
    "# Show rows with nan values\n",
    "resampled_df[resampled_df.isna().any(axis=1)]"
   ]
  },
  {
   "cell_type": "code",
   "execution_count": 23,
   "id": "6bdf7eea301e38d",
   "metadata": {
    "ExecuteTime": {
     "end_time": "2023-11-14T16:16:24.118499200Z",
     "start_time": "2023-11-14T16:16:24.097248900Z"
    },
    "collapsed": false
   },
   "outputs": [],
   "source": [
    "# resampled_df change column names with first letter uppercase\n",
    "resampled_df.columns = [col.capitalize() for col in resampled_df.columns]\n",
    "resampled_df.dropna(inplace=True)"
   ]
  },
  {
   "cell_type": "code",
   "execution_count": null,
   "id": "542b4c51412065f5",
   "metadata": {
    "collapsed": false
   },
   "outputs": [],
   "source": []
  },
  {
   "cell_type": "code",
   "execution_count": 21,
   "id": "224dd7205edfa872",
   "metadata": {
    "ExecuteTime": {
     "end_time": "2023-11-14T16:15:55.842572Z",
     "start_time": "2023-11-14T16:15:54.324316Z"
    },
    "collapsed": false
   },
   "outputs": [
    {
     "data": {
      "text/plain": [
       "Start                     2017-05-21 22:00...\n",
       "End                       2017-11-29 23:55...\n",
       "Duration                    192 days 01:55:00\n",
       "Exposure Time [%]                    99.92518\n",
       "Equity Final [$]                    10927.934\n",
       "Equity Peak [$]                     10979.932\n",
       "Return [%]                            9.27934\n",
       "Buy & Hold Return [%]               10.101752\n",
       "Return (Ann.) [%]                   14.420428\n",
       "Volatility (Ann.) [%]                6.294713\n",
       "Sharpe Ratio                         2.290879\n",
       "Sortino Ratio                        3.923033\n",
       "Calmar Ratio                         5.316603\n",
       "Max. Drawdown [%]                   -2.712339\n",
       "Avg. Drawdown [%]                   -0.105697\n",
       "Max. Drawdown Duration       34 days 08:05:00\n",
       "Avg. Drawdown Duration        0 days 13:40:00\n",
       "# Trades                                    1\n",
       "Win Rate [%]                            100.0\n",
       "Best Trade [%]                       9.901866\n",
       "Worst Trade [%]                      9.901866\n",
       "Avg. Trade [%]                       9.901866\n",
       "Max. Trade Duration         191 days 23:35:00\n",
       "Avg. Trade Duration         191 days 23:35:00\n",
       "Profit Factor                             NaN\n",
       "Expectancy [%]                       9.901866\n",
       "SQN                                       NaN\n",
       "_strategy                            SmaCross\n",
       "_equity_curve                             ...\n",
       "_trades                      Size  EntryBa...\n",
       "dtype: object"
      ]
     },
     "execution_count": 21,
     "metadata": {},
     "output_type": "execute_result"
    }
   ],
   "source": [
    "# Backtesting\n",
    "from backtesting import Backtest, Strategy\n",
    "from backtesting.lib import crossover\n",
    "import talib\n",
    "\n",
    "class SmaCross(Strategy):\n",
    "    def init(self):\n",
    "        # Precompute the two moving averages\n",
    "        self.ma1 = self.I(talib.SMA, self.data.Close, 20)\n",
    "        self.ma2 = self.I(talib.SMA, self.data.Close, 10)\n",
    "\n",
    "    def next(self):\n",
    "        # If ma1 crosses above ma2, buy the asset\n",
    "        if crossover(self.ma1, self.ma2):\n",
    "            self.buy()\n",
    "\n",
    "        # Else, if ma1 crosses below ma2, sell it\n",
    "        elif crossover(self.ma2, self.ma1):\n",
    "            self.sell()\n",
    "\n",
    "bt = Backtest(resampled_df, SmaCross, cash=10000, commission=.002)\n",
    "stats = bt.run()\n",
    "\n"
   ]
  },
  {
   "cell_type": "code",
   "execution_count": null,
   "id": "a8a4dd24e3c1be70",
   "metadata": {
    "collapsed": false
   },
   "outputs": [],
   "source": []
  }
 ],
 "metadata": {
  "kernelspec": {
   "display_name": "Python 3",
   "language": "python",
   "name": "python3"
  },
  "language_info": {
   "codemirror_mode": {
    "name": "ipython",
    "version": 2
   },
   "file_extension": ".py",
   "mimetype": "text/x-python",
   "name": "python",
   "nbconvert_exporter": "python",
   "pygments_lexer": "ipython2",
   "version": "3.10.7"
  }
 },
 "nbformat": 4,
 "nbformat_minor": 5
}
